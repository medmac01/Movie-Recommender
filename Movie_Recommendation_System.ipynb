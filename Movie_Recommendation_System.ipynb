{
  "cells": [
    {
      "cell_type": "markdown",
      "metadata": {
        "id": "view-in-github",
        "colab_type": "text"
      },
      "source": [
        "<a href=\"https://colab.research.google.com/github/medmac01/Movie-Recommender/blob/main/Movie_Recommendation_System.ipynb\" target=\"_parent\"><img src=\"https://colab.research.google.com/assets/colab-badge.svg\" alt=\"Open In Colab\"/></a>"
      ]
    },
    {
      "cell_type": "markdown",
      "metadata": {
        "id": "fgEezGc35RVB"
      },
      "source": [
        "#**Downloading the Dataset**"
      ]
    },
    {
      "cell_type": "code",
      "execution_count": null,
      "metadata": {
        "id": "H3dJWM_n0zt0"
      },
      "outputs": [],
      "source": [
        "# No neeeed to execute this..\n",
        "!pip install --user kaggle"
      ]
    },
    {
      "cell_type": "code",
      "execution_count": null,
      "metadata": {
        "id": "-P3dxWGd2nU0"
      },
      "outputs": [],
      "source": [
        "!sudo cp /content/kaggle.json ~/.kaggle/kaggle.json\n",
        "!chmod 600 /root/.kaggle/kaggle.json"
      ]
    },
    {
      "cell_type": "code",
      "execution_count": null,
      "metadata": {
        "colab": {
          "base_uri": "https://localhost:8080/"
        },
        "id": "BP5fvJEd1I6r",
        "outputId": "03e83dd4-122d-450b-cd18-f7d93e2084ea"
      },
      "outputs": [
        {
          "name": "stdout",
          "output_type": "stream",
          "text": [
            "movielens-20m-dataset.zip: Skipping, found more recently modified local copy (use --force to force download)\n",
            "Archive:  movielens-20m-dataset.zip\n",
            "replace genome_scores.csv? [y]es, [n]o, [A]ll, [N]one, [r]ename: N\n"
          ]
        }
      ],
      "source": [
        "!kaggle datasets download grouplens/movielens-20m-dataset\n",
        "!unzip movielens-20m-dataset.zip"
      ]
    },
    {
      "cell_type": "code",
      "execution_count": null,
      "metadata": {
        "id": "Hg4ZRbu777ok"
      },
      "outputs": [],
      "source": [
        "import tensorflow as tf\n",
        "from tensorflow import keras\n",
        "import numpy as np\n",
        "import pandas as pd\n",
        "from sklearn.model_selection import train_test_split"
      ]
    },
    {
      "cell_type": "code",
      "execution_count": null,
      "metadata": {
        "colab": {
          "base_uri": "https://localhost:8080/"
        },
        "id": "Bx2PcNGC8LLQ",
        "outputId": "f7dbf999-040c-4a0c-ede8-4eb5111b0159"
      },
      "outputs": [
        {
          "data": {
            "text/plain": [
              "(20000263, 4)"
            ]
          },
          "execution_count": 65,
          "metadata": {},
          "output_type": "execute_result"
        }
      ],
      "source": [
        "df = pd.read_csv('rating.csv')\n",
        "df.shape"
      ]
    },
    {
      "cell_type": "code",
      "execution_count": null,
      "metadata": {
        "id": "fklNptvt8sJQ"
      },
      "outputs": [],
      "source": [
        "df.columns\n",
        "# df = df.sample(frac = 1,random_state=42)\n",
        "# df = df.drop('timestamp', axis=1, inplace=False)\n",
        "df = df.iloc[:200000,:]\n",
        "# This is to shuffle the dataset\n"
      ]
    },
    {
      "cell_type": "code",
      "execution_count": null,
      "metadata": {
        "id": "QfRICtp_9G_j"
      },
      "outputs": [],
      "source": [
        "X = df[['userId','movieId']]\n",
        "# X = pd.DataFrame(df,index=df.index,columns=['userId','movieId'])\n",
        "y = df['rating']\n",
        "# min_rate = y.min()\n",
        "# max_rate = y.max()\n",
        "# y = y.apply(lambda x: ((x-min_rate)/(max_rate - min_rate)))\n",
        "X_train, X_test, y_train, y_test = train_test_split(X, y, test_size=0.2, random_state=42)\n"
      ]
    },
    {
      "cell_type": "code",
      "execution_count": null,
      "metadata": {
        "colab": {
          "base_uri": "https://localhost:8080/"
        },
        "id": "FcnwZH7na32S",
        "outputId": "5f032b2a-3b18-4a89-93da-3392ede7b800"
      },
      "outputs": [
        {
          "data": {
            "text/plain": [
              "(20000,)"
            ]
          },
          "execution_count": 46,
          "metadata": {},
          "output_type": "execute_result"
        }
      ],
      "source": [
        "X_test.iloc[:,1].shape"
      ]
    },
    {
      "cell_type": "code",
      "execution_count": null,
      "metadata": {
        "id": "bpMue-J5AJ6Q"
      },
      "outputs": [],
      "source": [
        "# Min Max Scaling\n",
        "min_rate = y.min()\n",
        "max_rate = y.max()\n",
        "y = y.apply(lambda x: ((x-min_rate)/(max_rate - min_rate)))"
      ]
    },
    {
      "cell_type": "code",
      "execution_count": null,
      "metadata": {
        "id": "y-YgYus2DcuV"
      },
      "outputs": [],
      "source": []
    },
    {
      "cell_type": "code",
      "execution_count": null,
      "metadata": {
        "id": "tvET8gCTFfy7"
      },
      "outputs": [],
      "source": [
        "users = df.userId.unique().tolist()\n",
        "num_users = {x: i for i,x in enumerate(users)}\n",
        "num_users = len(num_users)\n",
        "movies = df.movieId.unique().tolist()\n",
        "num_movies = {x: i for i,x in enumerate(movies)}\n",
        "num_movies = max(df.movieId)+1"
      ]
    },
    {
      "cell_type": "code",
      "execution_count": null,
      "metadata": {
        "id": "FdN6SYoM_c7s"
      },
      "outputs": [],
      "source": [
        "# df = df.sample(1,random_state=42)\n",
        "#id = int(0.8*X.shape[0])\n",
        "\n",
        "#X_train = X[:id]\n",
        "#y_train = y[:id]\n",
        "#X_test = X[id:]\n",
        "#y_test = y[id:]\n"
      ]
    },
    {
      "cell_type": "markdown",
      "metadata": {
        "id": "lXE60DFhFfZ5"
      },
      "source": []
    },
    {
      "cell_type": "code",
      "execution_count": null,
      "metadata": {
        "colab": {
          "base_uri": "https://localhost:8080/"
        },
        "id": "4JdG-LE4lP6r",
        "outputId": "60e98876-add7-4b01-c20b-6289cfea3d43"
      },
      "outputs": [
        {
          "data": {
            "text/plain": [
              "130220"
            ]
          },
          "execution_count": 70,
          "metadata": {},
          "output_type": "execute_result"
        }
      ],
      "source": [
        "num_movies"
      ]
    },
    {
      "cell_type": "code",
      "execution_count": 93,
      "metadata": {
        "id": "JlgLDhOPBhVh"
      },
      "outputs": [],
      "source": [
        "# The model\n",
        "\n",
        "\n",
        "\n",
        "# Users part\n",
        "user_input = tf.keras.Input(shape=[1])\n",
        "embedded_layer_users = tf.keras.layers.Embedding(num_users+1,\n",
        "                                           50,\n",
        "                                           embeddings_initializer='he_normal',\n",
        "                                           embeddings_regularizer=tf.keras.regularizers.l2(1e-6))(user_input)\n",
        "\n",
        "user_flattened = tf.keras.layers.Flatten()(embedded_layer_users)\n",
        "\n",
        "# Movies part\n",
        "movie_input = tf.keras.Input(shape=[1])\n",
        "embedded_layer_movies = tf.keras.layers.Embedding(num_movies+1,\n",
        "                                           50,\n",
        "                                           embeddings_initializer='he_normal',\n",
        "                                           embeddings_regularizer=tf.keras.regularizers.l2(1e-6))(movie_input)\n",
        "\n",
        "movie_flattened = tf.keras.layers.Flatten()(embedded_layer_movies)\n",
        "\n",
        "dot = keras.layers.concatenate([user_flattened, movie_flattened])\n",
        "\n",
        "dense_1 = keras.layers.Dense(units=32,activation='relu')(dot)\n",
        "# dense_2 = keras.layers.Dense(units=16,activation='relu')(dense_1)\n",
        "dense_3 = keras.layers.Dense(units=1)(dense_1)\n",
        "\n",
        "model = keras.Model([user_input,movie_input],dense_3)\n",
        "\n",
        "model.compile(loss='mean_squared_error',optimizer='adam')"
      ]
    },
    {
      "cell_type": "code",
      "execution_count": null,
      "metadata": {
        "id": "o4GNQ1KNev62"
      },
      "outputs": [],
      "source": []
    },
    {
      "cell_type": "code",
      "execution_count": null,
      "metadata": {
        "id": "NZVx4D5qbk9U"
      },
      "outputs": [],
      "source": [
        "from keras.utils import plot_model"
      ]
    },
    {
      "cell_type": "code",
      "execution_count": null,
      "metadata": {
        "id": "yGjiF3N3buOR"
      },
      "outputs": [],
      "source": [
        "#print(model.summary())\n",
        "#plot_model(model,show_shapes=True)"
      ]
    },
    {
      "cell_type": "code",
      "execution_count": 94,
      "metadata": {
        "colab": {
          "base_uri": "https://localhost:8080/"
        },
        "id": "lPfB6UecdNns",
        "outputId": "baa423fc-7ffe-418f-a780-b8e719020096"
      },
      "outputs": [
        {
          "output_type": "stream",
          "name": "stdout",
          "text": [
            "Epoch 1/5\n",
            "2500/2500 [==============================] - 13s 5ms/step - loss: 1.2859 - val_loss: 0.8193\n",
            "Epoch 2/5\n",
            "2500/2500 [==============================] - 13s 5ms/step - loss: 0.7633 - val_loss: 0.7815\n",
            "Epoch 3/5\n",
            "2500/2500 [==============================] - 13s 5ms/step - loss: 0.7182 - val_loss: 0.7728\n",
            "Epoch 4/5\n",
            "2500/2500 [==============================] - 13s 5ms/step - loss: 0.6883 - val_loss: 0.7781\n",
            "Epoch 5/5\n",
            "2500/2500 [==============================] - 15s 6ms/step - loss: 0.6613 - val_loss: 0.7743\n"
          ]
        }
      ],
      "source": [
        "# Training our model\n",
        "# val_data = [X_test.iloc[:,0],X_test.iloc[:,1]]\n",
        "history = model.fit([X_train.iloc[:,0], X_train.iloc[:,1]], y_train, epochs=5, verbose=1, validation_data=([X_test.iloc[:,0], X_test.iloc[:,1]], y_test), batch_size=64)"
      ]
    },
    {
      "cell_type": "code",
      "execution_count": 87,
      "metadata": {
        "colab": {
          "base_uri": "https://localhost:8080/"
        },
        "id": "1hPmY_ov-aoK",
        "outputId": "b295d46d-c623-4927-d93a-9ccbaf94ef59"
      },
      "outputs": [
        {
          "output_type": "stream",
          "name": "stdout",
          "text": [
            "1250/1250 [==============================] - 3s 2ms/step - loss: 0.7756\n"
          ]
        },
        {
          "output_type": "execute_result",
          "data": {
            "text/plain": [
              "0.7755545377731323"
            ]
          },
          "metadata": {},
          "execution_count": 87
        }
      ],
      "source": [
        "model.evaluate([X_test.iloc[:,0], X_test.iloc[:,1]],y_test,verbose=True)\n",
        "## smt is wrong!!"
      ]
    },
    {
      "cell_type": "code",
      "source": [
        "model.save_weights('model_weights.h5')"
      ],
      "metadata": {
        "id": "c6qQY2_dj4JR"
      },
      "execution_count": 99,
      "outputs": []
    },
    {
      "cell_type": "code",
      "source": [
        "import matplotlib.pyplot as plt\n",
        "\n",
        "plt.plot(history.history[\"loss\"])\n",
        "plt.plot(history.history[\"val_loss\"])\n",
        "plt.title(\"model loss\")\n",
        "plt.ylabel(\"loss\")\n",
        "plt.xlabel(\"epoch\")\n",
        "plt.legend([\"train\", \"test\"], loc=\"upper left\")\n",
        "plt.show()"
      ],
      "metadata": {
        "colab": {
          "base_uri": "https://localhost:8080/",
          "height": 295
        },
        "id": "OIiDCQNSyLry",
        "outputId": "2066ae77-e2d2-4649-95c4-d52f1ddf7a66"
      },
      "execution_count": 96,
      "outputs": [
        {
          "output_type": "display_data",
          "data": {
            "text/plain": [
              "<Figure size 432x288 with 1 Axes>"
            ],
            "image/png": "[encoded data removed]"
          },
          "metadata": {
            "needs_background": "light"
          }
        }
      ]
    },
    {
      "cell_type": "code",
      "source": [
        "!ls -l"
      ],
      "metadata": {
        "colab": {
          "base_uri": "https://localhost:8080/"
        },
        "id": "fpdquQdPzL-4",
        "outputId": "db6f3609-2fac-48bc-94a1-a8d60dc16e00"
      },
      "execution_count": 100,
      "outputs": [
        {
          "output_type": "stream",
          "name": "stdout",
          "text": [
            "total 1209796\n",
            "-rw-r--r-- 1 root root 214322450 Sep 20  2019 genome_scores.csv\n",
            "-rw-r--r-- 1 root root     20363 Sep 20  2019 genome_tags.csv\n",
            "-rw-r--r-- 1 root root        62 Dec 16 18:30 kaggle.json\n",
            "-rw-r--r-- 1 root root    539334 Sep 20  2019 link.csv\n",
            "-rw-r--r-- 1 root root  79040384 Dec 16 21:16 model.h5\n",
            "-rw-r--r-- 1 root root  26355016 Dec 16 21:18 model_weights.h5\n",
            "-rw-r--r-- 1 root root   1493648 Sep 20  2019 movie.csv\n",
            "-rw-r--r-- 1 root root 204953792 Dec 16 18:31 movielens-20m-dataset.zip\n",
            "-rw-r--r-- 1 root root 690353377 Sep 20  2019 rating.csv\n",
            "drwxr-xr-x 1 root root      4096 Dec 13 14:35 sample_data\n",
            "-rw-r--r-- 1 root root  21725514 Sep 20  2019 tag.csv\n"
          ]
        }
      ]
    },
    {
      "cell_type": "code",
      "source": [
        "movies_df = pd.read_csv('movie.csv')\n",
        "movies_df.head(2)"
      ],
      "metadata": {
        "colab": {
          "base_uri": "https://localhost:8080/",
          "height": 110
        },
        "id": "w4FYjjx1zoJP",
        "outputId": "b9abda4b-3aa1-4cfc-8288-f5112a6c9b7d"
      },
      "execution_count": 102,
      "outputs": [
        {
          "output_type": "execute_result",
          "data": {
            "text/plain": [
              "   movieId             title                                       genres\n",
              "0        1  Toy Story (1995)  Adventure|Animation|Children|Comedy|Fantasy\n",
              "1        2    Jumanji (1995)                   Adventure|Children|Fantasy"
            ],
            "text/html": [
              "\n",
              "  <div id=\"df-4b488539-9287-4afb-836a-3ecbc6a02246\">\n",
              "    <div class=\"colab-df-container\">\n",
              "      <div>\n",
              "<style scoped>\n",
              "    .dataframe tbody tr th:only-of-type {\n",
              "        vertical-align: middle;\n",
              "    }\n",
              "\n",
              "    .dataframe tbody tr th {\n",
              "        vertical-align: top;\n",
              "    }\n",
              "\n",
              "    .dataframe thead th {\n",
              "        text-align: right;\n",
              "    }\n",
              "</style>\n",
              "<table border=\"1\" class=\"dataframe\">\n",
              "  <thead>\n",
              "    <tr style=\"text-align: right;\">\n",
              "      <th></th>\n",
              "      <th>movieId</th>\n",
              "      <th>title</th>\n",
              "      <th>genres</th>\n",
              "    </tr>\n",
              "  </thead>\n",
              "  <tbody>\n",
              "    <tr>\n",
              "      <th>0</th>\n",
              "      <td>1</td>\n",
              "      <td>Toy Story (1995)</td>\n",
              "      <td>Adventure|Animation|Children|Comedy|Fantasy</td>\n",
              "    </tr>\n",
              "    <tr>\n",
              "      <th>1</th>\n",
              "      <td>2</td>\n",
              "      <td>Jumanji (1995)</td>\n",
              "      <td>Adventure|Children|Fantasy</td>\n",
              "    </tr>\n",
              "  </tbody>\n",
              "</table>\n",
              "</div>\n",
              "      <button class=\"colab-df-convert\" onclick=\"convertToInteractive('df-4b488539-9287-4afb-836a-3ecbc6a02246')\"\n",
              "              title=\"Convert this dataframe to an interactive table.\"\n",
              "              style=\"display:none;\">\n",
              "        \n",
              "  <svg xmlns=\"http://www.w3.org/2000/svg\" height=\"24px\"viewBox=\"0 0 24 24\"\n",
              "       width=\"24px\">\n",
              "    <path d=\"M0 0h24v24H0V0z\" fill=\"none\"/>\n",
              "    <path d=\"M18.56 5.44l.94 2.06.94-2.06 2.06-.94-2.06-.94-.94-2.06-.94 2.06-2.06.94zm-11 1L8.5 8.5l.94-2.06 2.06-.94-2.06-.94L8.5 2.5l-.94 2.06-2.06.94zm10 10l.94 2.06.94-2.06 2.06-.94-2.06-.94-.94-2.06-.94 2.06-2.06.94z\"/><path d=\"M17.41 7.96l-1.37-1.37c-.4-.4-.92-.59-1.43-.59-.52 0-1.04.2-1.43.59L10.3 9.45l-7.72 7.72c-.78.78-.78 2.05 0 2.83L4 21.41c.39.39.9.59 1.41.59.51 0 1.02-.2 1.41-.59l7.78-7.78 2.81-2.81c.8-.78.8-2.07 0-2.86zM5.41 20L4 18.59l7.72-7.72 1.47 1.35L5.41 20z\"/>\n",
              "  </svg>\n",
              "      </button>\n",
              "      \n",
              "  <style>\n",
              "    .colab-df-container {\n",
              "      display:flex;\n",
              "      flex-wrap:wrap;\n",
              "      gap: 12px;\n",
              "    }\n",
              "\n",
              "    .colab-df-convert {\n",
              "      background-color: #E8F0FE;\n",
              "      border: none;\n",
              "      border-radius: 50%;\n",
              "      cursor: pointer;\n",
              "      display: none;\n",
              "      fill: #1967D2;\n",
              "      height: 32px;\n",
              "      padding: 0 0 0 0;\n",
              "      width: 32px;\n",
              "    }\n",
              "\n",
              "    .colab-df-convert:hover {\n",
              "      background-color: #E2EBFA;\n",
              "      box-shadow: 0px 1px 2px rgba(60, 64, 67, 0.3), 0px 1px 3px 1px rgba(60, 64, 67, 0.15);\n",
              "      fill: #174EA6;\n",
              "    }\n",
              "\n",
              "    [theme=dark] .colab-df-convert {\n",
              "      background-color: #3B4455;\n",
              "      fill: #D2E3FC;\n",
              "    }\n",
              "\n",
              "    [theme=dark] .colab-df-convert:hover {\n",
              "      background-color: #434B5C;\n",
              "      box-shadow: 0px 1px 3px 1px rgba(0, 0, 0, 0.15);\n",
              "      filter: drop-shadow(0px 1px 2px rgba(0, 0, 0, 0.3));\n",
              "      fill: #FFFFFF;\n",
              "    }\n",
              "  </style>\n",
              "\n",
              "      <script>\n",
              "        const buttonEl =\n",
              "          document.querySelector('#df-4b488539-9287-4afb-836a-3ecbc6a02246 button.colab-df-convert');\n",
              "        buttonEl.style.display =\n",
              "          google.colab.kernel.accessAllowed ? 'block' : 'none';\n",
              "\n",
              "        async function convertToInteractive(key) {\n",
              "          const element = document.querySelector('#df-4b488539-9287-4afb-836a-3ecbc6a02246');\n",
              "          const dataTable =\n",
              "            await google.colab.kernel.invokeFunction('convertToInteractive',\n",
              "                                                     [key], {});\n",
              "          if (!dataTable) return;\n",
              "\n",
              "          const docLinkHtml = 'Like what you see? Visit the ' +\n",
              "            '<a target=\"_blank\" href=https://colab.research.google.com/notebooks/data_table.ipynb>data table notebook</a>'\n",
              "            + ' to learn more about interactive tables.';\n",
              "          element.innerHTML = '';\n",
              "          dataTable['output_type'] = 'display_data';\n",
              "          await google.colab.output.renderOutput(dataTable, element);\n",
              "          const docLink = document.createElement('div');\n",
              "          docLink.innerHTML = docLinkHtml;\n",
              "          element.appendChild(docLink);\n",
              "        }\n",
              "      </script>\n",
              "    </div>\n",
              "  </div>\n",
              "  "
            ]
          },
          "metadata": {},
          "execution_count": 102
        }
      ]
    },
    {
      "cell_type": "code",
      "source": [
        "user_id = df.userId.sample(1).iloc[0]\n",
        "watched_movs = df[df.userId == user_id].iloc[:,1]\n",
        "not_watched_movs = movies_df[~movies_df.movieId.isin(watched_movs.values)].movieId\n",
        "not_watched_movs"
      ],
      "metadata": {
        "colab": {
          "base_uri": "https://localhost:8080/"
        },
        "id": "RZ8_JQQn0Ckn",
        "outputId": "62be7055-1ac1-4385-8eae-c9a689d4de52"
      },
      "execution_count": 173,
      "outputs": [
        {
          "output_type": "execute_result",
          "data": {
            "text/plain": [
              "2             3\n",
              "3             4\n",
              "4             5\n",
              "5             6\n",
              "6             7\n",
              "          ...  \n",
              "27273    131254\n",
              "27274    131256\n",
              "27275    131258\n",
              "27276    131260\n",
              "27277    131262\n",
              "Name: movieId, Length: 26920, dtype: int64"
            ]
          },
          "metadata": {},
          "execution_count": 173
        }
      ]
    },
    {
      "cell_type": "code",
      "source": [
        "movie2movie_encoded = {x: i for i,x in enumerate(movies)}\n",
        "movie_encoded2movie = {i: x for i,x in enumerate(movies)}\n",
        "user2user_encoded = {x: i for i, x in enumerate(users)}\n",
        "user_encoded2user = {i: x for i, x in enumerate(users)}\n",
        "\n",
        "not_watched_movs = list(\n",
        "    set(not_watched_movs).intersection(set(movie2movie_encoded.keys()))\n",
        ")\n",
        "not_watched_movs = [[movie2movie_encoded.get(x)] for x in not_watched_movs]\n",
        "\n"
      ],
      "metadata": {
        "id": "0zAFppWs-04d"
      },
      "execution_count": 174,
      "outputs": []
    },
    {
      "cell_type": "code",
      "source": [
        "user_encoder = user2user_encoded.get(user_id)\n",
        "user_encoder"
      ],
      "metadata": {
        "colab": {
          "base_uri": "https://localhost:8080/"
        },
        "id": "QnPJjhD5CCjx",
        "outputId": "80c4e1c2-121a-4df1-a49e-e9adc1a560ae"
      },
      "execution_count": 141,
      "outputs": [
        {
          "output_type": "execute_result",
          "data": {
            "text/plain": [
              "776"
            ]
          },
          "metadata": {},
          "execution_count": 141
        }
      ]
    },
    {
      "cell_type": "code",
      "source": [
        "user_movie_array = np.hstack(\n",
        "    ([[user_encoder]] * len(not_watched_movs), not_watched_movs))\n",
        "user_movie_array"
      ],
      "metadata": {
        "colab": {
          "base_uri": "https://localhost:8080/"
        },
        "id": "mXbP0gFpEDCQ",
        "outputId": "02f9bbb1-8a92-4f09-82ed-39051e998dff"
      },
      "execution_count": 142,
      "outputs": [
        {
          "output_type": "execute_result",
          "data": {
            "text/plain": [
              "array([[ 776,  227],\n",
              "       [ 776, 6365],\n",
              "       [ 776, 6679],\n",
              "       ...,\n",
              "       [ 776, 1027],\n",
              "       [ 776, 5391],\n",
              "       [ 776, 6532]])"
            ]
          },
          "metadata": {},
          "execution_count": 142
        }
      ]
    },
    {
      "cell_type": "code",
      "source": [
        "ratings = model.predict([user_movie_array[:,0],user_movie_array[:,1]]).flatten()\n",
        "print(ratings)\n",
        "\n",
        "def get_top_ratings(ratings, k=10):\n",
        "  top_ratings = ratings.argsort()[-k:]\n",
        "  top_ratings = [movie_encoded2movie.get([x][0]) for x in top_ratings]\n",
        "  return top_ratings\n",
        "\n",
        "print(get_top_ratings(ratings))"
      ],
      "metadata": {
        "colab": {
          "base_uri": "https://localhost:8080/"
        },
        "id": "H2t8CfotEgOC",
        "outputId": "2b5ebcd1-5657-434d-c38f-322b8a7a5f21"
      },
      "execution_count": 224,
      "outputs": [
        {
          "output_type": "stream",
          "name": "stdout",
          "text": [
            "292/292 [==============================] - 0s 1ms/step\n",
            "[2.7655141 3.4112396 3.5325365 ... 3.0739973 3.279731  3.5325365]\n",
            "[55659, 8868, 2306, 74111, 96853, 427, 7155, 4488, 6754, 1889]\n"
          ]
        }
      ]
    },
    {
      "cell_type": "code",
      "source": [
        "top_movies_ids = get_top_ratings(ratings,10)\n",
        "top_movies_ids"
      ],
      "metadata": {
        "colab": {
          "base_uri": "https://localhost:8080/"
        },
        "id": "RmUgZnV9JsvD",
        "outputId": "20c1e051-0640-498d-dbdd-a4785aa59379"
      },
      "execution_count": 225,
      "outputs": [
        {
          "output_type": "execute_result",
          "data": {
            "text/plain": [
              "[55659, 8868, 2306, 74111, 96853, 427, 7155, 4488, 6754, 1889]"
            ]
          },
          "metadata": {},
          "execution_count": 225
        }
      ]
    },
    {
      "cell_type": "code",
      "source": [],
      "metadata": {
        "colab": {
          "base_uri": "https://localhost:8080/",
          "height": 203
        },
        "id": "g1g_FkyyO6X2",
        "outputId": "31f82439-087b-4a05-e45c-19af54cefbfe"
      },
      "execution_count": 202,
      "outputs": [
        {
          "output_type": "execute_result",
          "data": {
            "text/plain": [
              "      movieId                                   title  \\\n",
              "1169     1193  One Flew Over the Cuckoo's Nest (1975)   \n",
              "2911     2997             Being John Malkovich (1999)   \n",
              "4752     4848                 Mulholland Drive (2001)   \n",
              "4778     4874                            K-PAX (2001)   \n",
              "4782     4878                     Donnie Darko (2001)   \n",
              "\n",
              "                                      genres  \n",
              "1169                                   Drama  \n",
              "2911                    Comedy|Drama|Fantasy  \n",
              "4752  Crime|Drama|Film-Noir|Mystery|Thriller  \n",
              "4778            Drama|Fantasy|Mystery|Sci-Fi  \n",
              "4782           Drama|Mystery|Sci-Fi|Thriller  "
            ],
            "text/html": [
              "\n",
              "  <div id=\"df-cc292a3a-f7b5-4406-8253-994c13b23e11\">\n",
              "    <div class=\"colab-df-container\">\n",
              "      <div>\n",
              "<style scoped>\n",
              "    .dataframe tbody tr th:only-of-type {\n",
              "        vertical-align: middle;\n",
              "    }\n",
              "\n",
              "    .dataframe tbody tr th {\n",
              "        vertical-align: top;\n",
              "    }\n",
              "\n",
              "    .dataframe thead th {\n",
              "        text-align: right;\n",
              "    }\n",
              "</style>\n",
              "<table border=\"1\" class=\"dataframe\">\n",
              "  <thead>\n",
              "    <tr style=\"text-align: right;\">\n",
              "      <th></th>\n",
              "      <th>movieId</th>\n",
              "      <th>title</th>\n",
              "      <th>genres</th>\n",
              "    </tr>\n",
              "  </thead>\n",
              "  <tbody>\n",
              "    <tr>\n",
              "      <th>1169</th>\n",
              "      <td>1193</td>\n",
              "      <td>One Flew Over the Cuckoo's Nest (1975)</td>\n",
              "      <td>Drama</td>\n",
              "    </tr>\n",
              "    <tr>\n",
              "      <th>2911</th>\n",
              "      <td>2997</td>\n",
              "      <td>Being John Malkovich (1999)</td>\n",
              "      <td>Comedy|Drama|Fantasy</td>\n",
              "    </tr>\n",
              "    <tr>\n",
              "      <th>4752</th>\n",
              "      <td>4848</td>\n",
              "      <td>Mulholland Drive (2001)</td>\n",
              "      <td>Crime|Drama|Film-Noir|Mystery|Thriller</td>\n",
              "    </tr>\n",
              "    <tr>\n",
              "      <th>4778</th>\n",
              "      <td>4874</td>\n",
              "      <td>K-PAX (2001)</td>\n",
              "      <td>Drama|Fantasy|Mystery|Sci-Fi</td>\n",
              "    </tr>\n",
              "    <tr>\n",
              "      <th>4782</th>\n",
              "      <td>4878</td>\n",
              "      <td>Donnie Darko (2001)</td>\n",
              "      <td>Drama|Mystery|Sci-Fi|Thriller</td>\n",
              "    </tr>\n",
              "  </tbody>\n",
              "</table>\n",
              "</div>\n",
              "      <button class=\"colab-df-convert\" onclick=\"convertToInteractive('df-cc292a3a-f7b5-4406-8253-994c13b23e11')\"\n",
              "              title=\"Convert this dataframe to an interactive table.\"\n",
              "              style=\"display:none;\">\n",
              "        \n",
              "  <svg xmlns=\"http://www.w3.org/2000/svg\" height=\"24px\"viewBox=\"0 0 24 24\"\n",
              "       width=\"24px\">\n",
              "    <path d=\"M0 0h24v24H0V0z\" fill=\"none\"/>\n",
              "    <path d=\"M18.56 5.44l.94 2.06.94-2.06 2.06-.94-2.06-.94-.94-2.06-.94 2.06-2.06.94zm-11 1L8.5 8.5l.94-2.06 2.06-.94-2.06-.94L8.5 2.5l-.94 2.06-2.06.94zm10 10l.94 2.06.94-2.06 2.06-.94-2.06-.94-.94-2.06-.94 2.06-2.06.94z\"/><path d=\"M17.41 7.96l-1.37-1.37c-.4-.4-.92-.59-1.43-.59-.52 0-1.04.2-1.43.59L10.3 9.45l-7.72 7.72c-.78.78-.78 2.05 0 2.83L4 21.41c.39.39.9.59 1.41.59.51 0 1.02-.2 1.41-.59l7.78-7.78 2.81-2.81c.8-.78.8-2.07 0-2.86zM5.41 20L4 18.59l7.72-7.72 1.47 1.35L5.41 20z\"/>\n",
              "  </svg>\n",
              "      </button>\n",
              "      \n",
              "  <style>\n",
              "    .colab-df-container {\n",
              "      display:flex;\n",
              "      flex-wrap:wrap;\n",
              "      gap: 12px;\n",
              "    }\n",
              "\n",
              "    .colab-df-convert {\n",
              "      background-color: #E8F0FE;\n",
              "      border: none;\n",
              "      border-radius: 50%;\n",
              "      cursor: pointer;\n",
              "      display: none;\n",
              "      fill: #1967D2;\n",
              "      height: 32px;\n",
              "      padding: 0 0 0 0;\n",
              "      width: 32px;\n",
              "    }\n",
              "\n",
              "    .colab-df-convert:hover {\n",
              "      background-color: #E2EBFA;\n",
              "      box-shadow: 0px 1px 2px rgba(60, 64, 67, 0.3), 0px 1px 3px 1px rgba(60, 64, 67, 0.15);\n",
              "      fill: #174EA6;\n",
              "    }\n",
              "\n",
              "    [theme=dark] .colab-df-convert {\n",
              "      background-color: #3B4455;\n",
              "      fill: #D2E3FC;\n",
              "    }\n",
              "\n",
              "    [theme=dark] .colab-df-convert:hover {\n",
              "      background-color: #434B5C;\n",
              "      box-shadow: 0px 1px 3px 1px rgba(0, 0, 0, 0.15);\n",
              "      filter: drop-shadow(0px 1px 2px rgba(0, 0, 0, 0.3));\n",
              "      fill: #FFFFFF;\n",
              "    }\n",
              "  </style>\n",
              "\n",
              "      <script>\n",
              "        const buttonEl =\n",
              "          document.querySelector('#df-cc292a3a-f7b5-4406-8253-994c13b23e11 button.colab-df-convert');\n",
              "        buttonEl.style.display =\n",
              "          google.colab.kernel.accessAllowed ? 'block' : 'none';\n",
              "\n",
              "        async function convertToInteractive(key) {\n",
              "          const element = document.querySelector('#df-cc292a3a-f7b5-4406-8253-994c13b23e11');\n",
              "          const dataTable =\n",
              "            await google.colab.kernel.invokeFunction('convertToInteractive',\n",
              "                                                     [key], {});\n",
              "          if (!dataTable) return;\n",
              "\n",
              "          const docLinkHtml = 'Like what you see? Visit the ' +\n",
              "            '<a target=\"_blank\" href=https://colab.research.google.com/notebooks/data_table.ipynb>data table notebook</a>'\n",
              "            + ' to learn more about interactive tables.';\n",
              "          element.innerHTML = '';\n",
              "          dataTable['output_type'] = 'display_data';\n",
              "          await google.colab.output.renderOutput(dataTable, element);\n",
              "          const docLink = document.createElement('div');\n",
              "          docLink.innerHTML = docLinkHtml;\n",
              "          element.appendChild(docLink);\n",
              "        }\n",
              "      </script>\n",
              "    </div>\n",
              "  </div>\n",
              "  "
            ]
          },
          "metadata": {},
          "execution_count": 202
        }
      ]
    },
    {
      "cell_type": "code",
      "source": [
        "print(\"Showing recommendations for user: {}\".format(user_id))\n",
        "print(\"====\" * 9)\n",
        "print(\"Movies with high ratings from user\")\n",
        "print(\"----\" * 8)\n",
        "top_watched_movies = df[df.userId == user_id].sort_values(by='rating',ascending=False).movieId.head(5)\n",
        "top_watched_movies = movies_df[movies_df.movieId.isin(top_watched_movies.values)]\n",
        "\n",
        "for element in top_watched_movies.itertuples():\n",
        "  print(element.title,element.genres)\n",
        "\n",
        "print(\"====\" * 9)\n",
        "print(\"Top 10 Recommendations:\")\n",
        "print(\"----\" * 8)\n",
        "\n",
        "top_movies_ids = get_top_ratings(ratings,10)\n",
        "top_movies = movies_df[movies_df.movieId.isin(top_movies_ids)]\n",
        "\n",
        "for element in top_movies.itertuples():\n",
        "  print(element.title,element.genres)\n",
        "\n"
      ],
      "metadata": {
        "colab": {
          "base_uri": "https://localhost:8080/"
        },
        "id": "a1iqUUiAKkmF",
        "outputId": "f5c32fb0-09fc-4b8a-8437-e806103b7b7b"
      },
      "execution_count": 227,
      "outputs": [
        {
          "output_type": "stream",
          "name": "stdout",
          "text": [
            "Showing recommendations for user: 1341\n",
            "====================================\n",
            "Movies with high ratings from user\n",
            "--------------------------------\n",
            "One Flew Over the Cuckoo's Nest (1975) Drama\n",
            "Being John Malkovich (1999) Comedy|Drama|Fantasy\n",
            "Mulholland Drive (2001) Crime|Drama|Film-Noir|Mystery|Thriller\n",
            "K-PAX (2001) Drama|Fantasy|Mystery|Sci-Fi\n",
            "Donnie Darko (2001) Drama|Mystery|Sci-Fi|Thriller\n",
            "====================================\n",
            "Top 10 Recommendations:\n",
            "--------------------------------\n",
            "Boxing Helena (1993) Drama|Mystery|Romance|Thriller\n",
            "Insomnia (1997) Drama|Mystery|Thriller\n",
            "Holy Man (1998) Comedy\n",
            "Colors (1988) Action|Crime|Drama\n",
            "Underworld (2003) Action|Fantasy|Horror\n",
            "Calendar Girls (2003) Comedy\n",
            "Head in the Clouds (2004) Drama|Romance|War\n",
            "Return to the 36th Chamber (Shao Lin da peng da shi) (1980) Action|Comedy\n",
            "Arn: The Kingdom at Road's End (Arn: Riket vid vägens slut) (2008) Action|Adventure|Drama|Romance|War\n",
            "Thin Ice (2011) Comedy|Crime|Drama\n"
          ]
        }
      ]
    }
  ],
  "metadata": {
    "accelerator": "GPU",
    "colab": {
      "provenance": [],
      "include_colab_link": true
    },
    "gpuClass": "standard",
    "kernelspec": {
      "display_name": "Python 3",
      "name": "python3"
    },
    "language_info": {
      "name": "python"
    }
  },
  "nbformat": 4,
  "nbformat_minor": 0
}